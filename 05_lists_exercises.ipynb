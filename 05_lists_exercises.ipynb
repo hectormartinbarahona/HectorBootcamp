{
 "cells": [
  {
   "cell_type": "markdown",
   "metadata": {
    "colab_type": "text",
    "id": "UiiL4CQJxckr"
   },
   "source": [
    "### Exercise 1. Creates a list similar to the following one in which all the elements are integers"
   ]
  },
  {
   "cell_type": "code",
   "execution_count": 17,
   "metadata": {
    "colab": {
     "base_uri": "https://localhost:8080/",
     "height": 34
    },
    "colab_type": "code",
    "executionInfo": {
     "elapsed": 916,
     "status": "ok",
     "timestamp": 1600442271968,
     "user": {
      "displayName": "João Neves da Silva",
      "photoUrl": "",
      "userId": "05817886830918075763"
     },
     "user_tz": -60
    },
    "id": "NtAEWvVoxlMO",
    "outputId": "bbb3c841-bb81-4ca8-e410-4d2a64b2e61d"
   },
   "outputs": [
    {
     "name": "stdout",
     "output_type": "stream",
     "text": [
      "[1, 2, 3, 4, 5, 6, 7, 8, 9, 10]\n"
     ]
    }
   ],
   "source": [
    "l = [1, 2.0, '3', 4.0, 5, '6', 7.0, 8, '9', '10']\n",
    "l_int = []\n",
    "for i in l:\n",
    "  l_int.append(int(i))\n",
    "print(l_int)\n"
   ]
  },
  {
   "cell_type": "code",
   "execution_count": 2,
   "metadata": {
    "colab": {},
    "colab_type": "code",
    "id": "L4nOZSzBxcks",
    "scrolled": true
   },
   "outputs": [],
   "source": [
    "l = [1, 2.0, '3', 4.0, 5, '6', 7.0, 8, '9', '10']"
   ]
  },
  {
   "cell_type": "markdown",
   "metadata": {
    "colab_type": "text",
    "id": "SkKAbjmfxckw"
   },
   "source": [
    "### Exercise 2. Creates a list for the names `name` and another for the age `age`"
   ]
  },
  {
   "cell_type": "code",
   "execution_count": 18,
   "metadata": {
    "colab": {},
    "colab_type": "code",
    "id": "DNTwexHHxckx"
   },
   "outputs": [
    {
     "name": "stdout",
     "output_type": "stream",
     "text": [
      "[25, 28, 27, 26]\n",
      "['Chandler', 'Phoebe', 'Monika', 'Joey']\n"
     ]
    }
   ],
   "source": [
    "l = ['Chandler', 25, 'Phoebe', 28,  'Monika', 27, 'Joey', 26 ]\n",
    "ages=[]\n",
    "names=[]\n",
    "c=len(l)\n",
    "for i in range(c):\n",
    "    if isinstance(l[i], int)==True:\n",
    "        ages.append(l[i])\n",
    "    else:\n",
    "        names.append(l[i])\n",
    "print(ages)\n",
    "print(names)"
   ]
  },
  {
   "cell_type": "markdown",
   "metadata": {
    "colab_type": "text",
    "id": "IGoej60kxck0"
   },
   "source": [
    "### Exercise 3. Separate the list in three `name`, `age` and `phone`"
   ]
  },
  {
   "cell_type": "code",
   "execution_count": 19,
   "metadata": {
    "colab": {},
    "colab_type": "code",
    "id": "gRhmm0nyxck0"
   },
   "outputs": [
    {
     "name": "stdout",
     "output_type": "stream",
     "text": [
      "['Chandler', 'Phoebe', 'Monika', 'Joey']\n",
      "[25, 28, 27, 26]\n",
      "[755.5664, 755.5904, 655.5297, 655.5722]\n"
     ]
    }
   ],
   "source": [
    "l = ['Chandler', 25, 755.5664,  'Phoebe', 28, 755.5904,  'Monika', 27, 655.5297, 'Joey', 26, 655.5722]\n",
    "names=[]\n",
    "ages=[]\n",
    "tel=[]\n",
    "for i in range(len(l)):\n",
    "    if isinstance(l[i], str)==True:\n",
    "        names.append(l[i])\n",
    "    elif isinstance(l[i], int)==True and l[i]<115:\n",
    "        ages.append(l[i])\n",
    "    else:\n",
    "        tel.append(l[i])\n",
    "print(names)\n",
    "print(ages)\n",
    "print(tel)"
   ]
  },
  {
   "cell_type": "markdown",
   "metadata": {
    "colab_type": "text",
    "id": "l2SH5yLXxck3"
   },
   "source": [
    "### Exercise 4. Same than in ex.3, be sure that the number is a float"
   ]
  },
  {
   "cell_type": "code",
   "execution_count": null,
   "metadata": {
    "colab": {},
    "colab_type": "code",
    "id": "DBa8Hnzlxck3"
   },
   "outputs": [],
   "source": [
    "l = ['Chandler', 25, \"755.5664\",  'Phoebe', 28, \"755.5904\",  \n",
    "     'Monika', 27, \"655.5297\", 'Joey', 26,\"655.5722\"]\n",
    "name=[]\n",
    "age=[]\n",
    "tel=[]\n",
    "for i in range (2,12,3):\n",
    "    d=float(l[i])\n",
    "    l.pop(i)\n",
    "    l.insert(i,d)\n",
    "for i in range(len(l)):\n",
    "    if isinstance(l[i], str)==True:\n",
    "        name.append(l[i])\n",
    "    elif isinstance(l[i], int)==True and l[i]<115:\n",
    "        age.append(l[i])\n",
    "    elif isinstance(l[i], float)==True:\n",
    "        tel.append(l[i])\n",
    "print(name)\n",
    "print(age)\n",
    "print(tel)"
   ]
  },
  {
   "cell_type": "markdown",
   "metadata": {
    "colab_type": "text",
    "id": "W4hwKedcxck7"
   },
   "source": [
    "### Exercise 5. Same than in ex.3 and 4, but parsing the phone number"
   ]
  },
  {
   "cell_type": "code",
   "execution_count": null,
   "metadata": {
    "colab": {},
    "colab_type": "code",
    "id": "-Izl-FHNxck7"
   },
   "outputs": [],
   "source": [
    "l = ['Chandler', 25, \"+34-755-5664\",  'Phoebe', 28, \"+34-755-5904\",  \n",
    "     'Monika', 27, \"+34-655-5297\", 'Joey', 26,\"+34-655-5722\"]"
   ]
  },
  {
   "cell_type": "markdown",
   "metadata": {
    "colab_type": "text",
    "id": "MSeuZXtaxck-"
   },
   "source": [
    "### Exercise 6. It has been a year since they started recording the TV show so add 1 year to the age of each"
   ]
  },
  {
   "cell_type": "code",
   "execution_count": 36,
   "metadata": {
    "colab": {},
    "colab_type": "code",
    "id": "DVdiXLeKxck-"
   },
   "outputs": [
    {
     "name": "stdout",
     "output_type": "stream",
     "text": [
      "['Chandler', 26, 'Phoebe', 29, 'Monika', 28, 'Joey', 27]\n"
     ]
    }
   ],
   "source": [
    "l = ['Chandler', 25, 'Phoebe', 28,  'Monika', 27, 'Joey', 26]\n",
    "Afteryear=[]\n",
    "a=len(l)\n",
    "for i in range(0,a,1):\n",
    "    if isinstance(l[i],int) == True:\n",
    "        l[i]+=1\n",
    "        Afteryear.append(l[i])\n",
    "    else:\n",
    "        Afteryear.append(l[i])\n",
    "print (Afteryear)\n",
    "    "
   ]
  },
  {
   "cell_type": "markdown",
   "metadata": {
    "colab_type": "text",
    "id": "GEI4DnbaxclC"
   },
   "source": [
    "### Exercise 7. Create a list for `name` and a list for `age`. Sort both lists according to age (ascending)"
   ]
  },
  {
   "cell_type": "code",
   "execution_count": 13,
   "metadata": {
    "colab": {},
    "colab_type": "code",
    "id": "f_iAt7OwxclD"
   },
   "outputs": [
    {
     "name": "stdout",
     "output_type": "stream",
     "text": [
      "[25, 26, 27, 28] ['Chandler', 'Joey', 'Monika', 'Phoebe']\n"
     ]
    }
   ],
   "source": [
    "l = ['Chandler', 25, 'Phoebe', 28,  'Monika', 27, 'Joey', 26]\n",
    "age=[]\n",
    "for i in l:\n",
    "    if isinstance(i,str)==False:\n",
    "        age.append(i)\n",
    "s_age = sorted(age)\n",
    "s_name=[]\n",
    "for i in s_age:\n",
    "    s_name.append(l[l.index(i)-1])\n",
    "print(s_age,s_name)    "
   ]
  },
  {
   "cell_type": "markdown",
   "metadata": {
    "colab_type": "text",
    "id": "d4ma60OxxclG"
   },
   "source": [
    "### Exercise 8. Create a function to order one list using other list\n"
   ]
  },
  {
   "cell_type": "markdown",
   "metadata": {
    "colab_type": "text",
    "id": "ykOluTsmxclH"
   },
   "source": [
    "### Exercise 9. Separate `age_new` and `name_new` and sort names in age order using previous function"
   ]
  },
  {
   "cell_type": "code",
   "execution_count": 14,
   "metadata": {
    "colab": {},
    "colab_type": "code",
    "id": "M8zrMoXPxclI"
   },
   "outputs": [
    {
     "name": "stdout",
     "output_type": "stream",
     "text": [
      "['Rachel', 'Monika', 'Ross']\n"
     ]
    }
   ],
   "source": [
    "l_new = ['Rachel', 24, 'Ross', 27, 'Monika', 25]\n",
    "def Functionlist(l):\n",
    "    age=[]\n",
    "    for i in l:\n",
    "        if isinstance(i,str)==False:\n",
    "            age.append(i)\n",
    "    s_age = sorted(age)\n",
    "    s_name=[]\n",
    "    for i in s_age:\n",
    "        s_name.append(l[l.index(i)-1])\n",
    "    return s_name\n",
    "print(Functionlist(l_new))"
   ]
  },
  {
   "cell_type": "markdown",
   "metadata": {
    "colab_type": "text",
    "id": "9gNWxxN2xclK"
   },
   "source": [
    "### Exercise 10. Join `l` with `l_new`, separate `age` and `name` sort them and remove those with age higher than 26"
   ]
  },
  {
   "cell_type": "code",
   "execution_count": 84,
   "metadata": {
    "colab": {},
    "colab_type": "code",
    "id": "CW6E3DkFxclL"
   },
   "outputs": [
    {
     "name": "stdout",
     "output_type": "stream",
     "text": [
      "[24, 25, 26]\n",
      "['Rachel', 'Chandler', 'Joey']\n"
     ]
    }
   ],
   "source": [
    "l = ['Chandler', 25, 'Phoebe', 28,  'Monika', 27, 'Joey', 26]\n",
    "l_new = ['Rachel', 24, 'Ross', 27]\n",
    "ltotal=l+l_new\n",
    "age=[]\n",
    "for i in range(0,len(ltotal),1):\n",
    "    if isinstance(ltotal[i],str)==False and ltotal[i]<=26:\n",
    "            age.append(ltotal[i])             \n",
    "s_age=sorted(age)\n",
    "s_name=[]\n",
    "for i in range(0,len(s_age),1):\n",
    "    s_name.append(ltotal[ltotal.index(s_age[i])-1])\n",
    "print(s_age)    \n",
    "print(s_name)"
   ]
  },
  {
   "cell_type": "code",
   "execution_count": null,
   "metadata": {},
   "outputs": [],
   "source": []
  }
 ],
 "metadata": {
  "colab": {
   "collapsed_sections": [],
   "name": "05_lists_exercises.ipynb",
   "provenance": []
  },
  "kernelspec": {
   "display_name": "Python 3",
   "language": "python",
   "name": "python3"
  },
  "language_info": {
   "codemirror_mode": {
    "name": "ipython",
    "version": 3
   },
   "file_extension": ".py",
   "mimetype": "text/x-python",
   "name": "python",
   "nbconvert_exporter": "python",
   "pygments_lexer": "ipython3",
   "version": "3.8.3"
  }
 },
 "nbformat": 4,
 "nbformat_minor": 1
}
